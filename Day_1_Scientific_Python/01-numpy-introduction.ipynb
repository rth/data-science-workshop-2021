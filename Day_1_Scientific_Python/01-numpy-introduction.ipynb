{
 "cells": [
  {
   "cell_type": "markdown",
   "metadata": {},
   "source": [
    "# Introduction to numpy"
   ]
  },
  {
   "cell_type": "markdown",
   "metadata": {},
   "source": [
    "## Quick introduction to Jupyter Notebook\n",
    "\n",
    "To run [Jupyter Notebook](https://jupyter-notebook.readthedocs.io/en/stable/) in your terminal, type: <br>\n",
    "    `jupyter notebook`\n",
    "    \n",
    "Alternatively you may want to run [JupyterLab](https://jupyterlab.readthedocs.io/en/latest/), which is the next-generation web-based user interface for [Project Jupyter](https://jupyter.org/): <br>\n",
    "    `jupyter lab`\n",
    "\n",
    "### Keyboard shortcuts\n",
    "\n",
    "**Shift + Enter**: execute the cell, move to the cell below\n",
    "\n",
    "**Ctrl + /**: toggle comment/uncomment\n",
    "\n",
    "__?__: help\n",
    "    \n",
    "**Esc**: Enter command mode, where you can use:\n",
    "-  __a__: Insert a new cell above\n",
    "-  __b__: Insert a new cell below\n",
    "-  **m**: Change the current cell to Markdown\n",
    "-  **y**: Change the current cell to Code\n",
    "\n",
    "**Enter**: Enter edit mode"
   ]
  },
  {
   "cell_type": "markdown",
   "metadata": {},
   "source": [
    "## Content\n",
    "\n",
    "1. [Introduction to numpy](numpys/numpy_intro.ipynb)\n",
    "2. [Working with a dataset](numpys/dataset_intro.ipynb)\n",
    "3. [Filtering data](numpys/filtering_data.ipynb)\n",
    "4. [Slices](numpys/slices.ipynb)\n",
    "5. [Operations](numpys/operations.ipynb)\n",
    "6. [Boolean mask](numpys/boolean_mask.ipynb)\n",
    "7. [Stacking](numpys/stacking.ipynb) \n",
    "\n",
    "### Extra topics\n",
    "\n",
    "8. [K-means clustering](numpys/k_means.ipynb)\n",
    "9. [Savez() and load()](numpys/savez.ipynb)\n",
    "10. [Fancy indexing](numpys/fancy_indexing.ipynb)\n",
    "11. [Broadcasting](numpys/broadcasting.ipynb)\n",
    "12. [Test yourself](numpys/test_yourself.ipynb)"
   ]
  },
  {
   "cell_type": "markdown",
   "metadata": {},
   "source": [
    "## References\n",
    "\n",
    "- Maria Teleńczuk, [Working efficiently with multi-dimensional arrays in NumPy](https://github.com/maikia/numpy_tutorial)\n",
    "- Software Carpentry, [Programming with Python](https://swcarpentry.github.io/python-novice-inflammation/)\n",
    "- Paris Software Carpentry, [Advanced  numpy lesson](https://paris-swc.github.io/advanced-numpy-lesson/)\n",
    "- Bartosz Teleńczuk, [Advanced Numpy tutorial](https://github.com/btel/2016-erlangen-euroscipy-advanced-numpy)"
   ]
  },
  {
   "cell_type": "markdown",
   "metadata": {},
   "source": [
    " ## Further reading\n",
    " \n",
    "- [NumPy Documentation](https://numpy.org/doc/stable/)\n",
    "  - [NumPy quickstart](https://numpy.org/doc/stable/user/quickstart.html)\n",
    "  - [NumPy: the absolute basics for beginners](https://numpy.org/doc/stable/user/absolute_beginners.html)\n",
    "  - [NumPy basics](https://numpy.org/doc/stable/user/basics.html)\n",
    "  - [NumPy Reference](https://numpy.org/doc/stable/reference/index.html)\n",
    "- [NumPy tutorials](https://numpy.org/learn/)\n",
    "- Gaël Varoquaux, Emmanuelle Gouillart and Olav Vahtras (editors), [SciPy Lectures](http://scipy-lectures.org/)\n",
    "- Juan Nuñez-Iglesias, [Lecture on Advanced NumPy patterns](https://github.com/jni/aspp2015)\n",
    "- Stéfan van der Walt, [Advanced NumPy tutorial](https://python.g-node.org/python-summerschool-2014/numpy.html)\n",
    "- Nicolas Rougier, [100 NumPy exercises](https://github.com/rougier/numpy-100)\n",
    "- Bartosz Teleńczuk, [Advanced NumPy lesson](https://github.com/paris-swc/advanced-numpy-lesson)"
   ]
  }
 ],
 "metadata": {
  "kernelspec": {
   "display_name": "Python 3",
   "language": "python",
   "name": "python3"
  },
  "language_info": {
   "codemirror_mode": {
    "name": "ipython",
    "version": 3
   },
   "file_extension": ".py",
   "mimetype": "text/x-python",
   "name": "python",
   "nbconvert_exporter": "python",
   "pygments_lexer": "ipython3",
   "version": "3.7.10"
  }
 },
 "nbformat": 4,
 "nbformat_minor": 2
}
