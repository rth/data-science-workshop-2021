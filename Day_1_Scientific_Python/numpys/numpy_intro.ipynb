{
 "cells": [
  {
   "cell_type": "markdown",
   "metadata": {},
   "source": [
    "# 01 - Introduction to numpy"
   ]
  },
  {
   "cell_type": "markdown",
   "metadata": {},
   "source": [
    "## Why NumPy?\n",
    "\n",
    "In general you should use [numpy](https://numpy.org/) library if you want to do fancy things with **numbers**, especially if you have **matrices** or **arrays.** \n",
    "\n",
    "NumPy is at the center of scientific Python ecosystem and it is a work-horse of many scientific libraries including scikit-learn, scikit-image, matplotlib, SciPy,...\n",
    "\n",
    "## Import\n",
    "\n",
    "To use NumPy we need to start python interpreter and import the `numpy` package:"
   ]
  },
  {
   "cell_type": "code",
   "execution_count": null,
   "metadata": {},
   "outputs": [],
   "source": [
    "import numpy as np"
   ]
  },
  {
   "cell_type": "markdown",
   "metadata": {},
   "source": [
    "## NumPy Array\n",
    "\n",
    "- __array:__ \n",
    "Homogeneous multidimensional data container with all elements of the same type. \n",
    "\n",
    "It is similar to Python lists, but it's specialised for working on numerical data. "
   ]
  },
  {
   "cell_type": "markdown",
   "metadata": {},
   "source": [
    "Let's create a simple numpy array from a Python list by using [`np.array`](https://numpy.org/doc/stable/reference/generated/numpy.array.html):"
   ]
  },
  {
   "cell_type": "code",
   "execution_count": null,
   "metadata": {},
   "outputs": [],
   "source": [
    "x = np.array([2, 1, 5])\n",
    "print(x)"
   ]
  },
  {
   "cell_type": "markdown",
   "metadata": {},
   "source": [
    "### Lists vs Numpy arrays\n",
    "\n",
    "The Python core library provides Lists. A list is the Python equivalent of an array, but it is resizeable and can contain elements of different types.\n",
    "\n",
    "Pros of an array:\n",
    " - **Size** - Numpy data structures take up less space\n",
    " - **Performance** - faster than lists\n",
    " - **Functionality** - SciPy and NumPy have optimized functions such as linear algebra operations built in."
   ]
  },
  {
   "cell_type": "code",
   "execution_count": null,
   "metadata": {},
   "outputs": [],
   "source": [
    "L = range(1000)\n",
    "%timeit [i**2 for i in L]"
   ]
  },
  {
   "cell_type": "markdown",
   "metadata": {},
   "source": [
    "[__np.arange__](https://numpy.org/doc/stable/reference/generated/numpy.arange.html) works like Python built-in [range](https://docs.python.org/3/library/stdtypes.html#range), but it returns a numpy array: "
   ]
  },
  {
   "cell_type": "code",
   "execution_count": null,
   "metadata": {},
   "outputs": [],
   "source": [
    "np.arange(5)"
   ]
  },
  {
   "cell_type": "code",
   "execution_count": null,
   "metadata": {
    "scrolled": true
   },
   "outputs": [],
   "source": [
    "a = np.arange(1000)\n",
    "%timeit a**2"
   ]
  },
  {
   "cell_type": "markdown",
   "metadata": {},
   "source": [
    "### Memory layout\n",
    "\n",
    "NumPy array is just a memory block with extra information how to interpret its contents.\n",
    "\n",
    "### Array creation\n",
    "\n",
    "To construct an array with pre-defined elements we can also use other built-in helper functions:"
   ]
  },
  {
   "cell_type": "markdown",
   "metadata": {},
   "source": [
    "[__np.ones__](https://numpy.org/doc/stable/reference/generated/numpy.ones.html) and [__np.zeros__](https://numpy.org/doc/stable/reference/generated/numpy.zeros.html) return arrays of 0s and 1s, respectively: "
   ]
  },
  {
   "cell_type": "code",
   "execution_count": null,
   "metadata": {},
   "outputs": [],
   "source": [
    "np.ones(5)"
   ]
  },
  {
   "cell_type": "code",
   "execution_count": null,
   "metadata": {},
   "outputs": [],
   "source": [
    "np.zeros(5)"
   ]
  },
  {
   "cell_type": "markdown",
   "metadata": {},
   "source": [
    "[__np.random.rand__](https://numpy.org/doc/stable/reference/random/generated/numpy.random.rand.html) creates an array of random numbers from a uniform distribution over [0, 1):"
   ]
  },
  {
   "cell_type": "code",
   "execution_count": null,
   "metadata": {},
   "outputs": [],
   "source": [
    "np.random.rand(5)"
   ]
  },
  {
   "cell_type": "markdown",
   "metadata": {},
   "source": [
    "We can also construct a two- or more dimensional arrays:"
   ]
  },
  {
   "cell_type": "code",
   "execution_count": null,
   "metadata": {},
   "outputs": [],
   "source": [
    "np.array([[1, 2], [5, 6]])"
   ]
  },
  {
   "cell_type": "code",
   "execution_count": null,
   "metadata": {},
   "outputs": [],
   "source": [
    "np.ones((2, 2))"
   ]
  },
  {
   "cell_type": "markdown",
   "metadata": {},
   "source": [
    "Alternatively, an n-dimensional array can be obtained by reshaping a 1-D array:"
   ]
  },
  {
   "cell_type": "code",
   "execution_count": null,
   "metadata": {},
   "outputs": [],
   "source": [
    "a = np.arange(12)\n",
    "a.reshape((4,3))"
   ]
  },
  {
   "cell_type": "markdown",
   "metadata": {},
   "source": [
    "Previous: [00 - Index](../01-numpy-introduction.ipynb)<span style=\"float:right;\">Next: [02 - Working with a dataset](dataset_intro.ipynb)</span>"
   ]
  },
  {
   "cell_type": "code",
   "execution_count": null,
   "metadata": {},
   "outputs": [],
   "source": []
  }
 ],
 "metadata": {
  "kernelspec": {
   "display_name": "Python 3",
   "language": "python",
   "name": "python3"
  },
  "language_info": {
   "codemirror_mode": {
    "name": "ipython",
    "version": 3
   },
   "file_extension": ".py",
   "mimetype": "text/x-python",
   "name": "python",
   "nbconvert_exporter": "python",
   "pygments_lexer": "ipython3",
   "version": "3.7.10"
  }
 },
 "nbformat": 4,
 "nbformat_minor": 2
}
