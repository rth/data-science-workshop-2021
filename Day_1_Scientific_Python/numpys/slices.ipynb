{
 "cells": [
  {
   "cell_type": "markdown",
   "metadata": {},
   "source": [
    "# 04 - Slices"
   ]
  },
  {
   "cell_type": "markdown",
   "metadata": {},
   "source": [
    "You can select ranges of elements using slices. "
   ]
  },
  {
   "cell_type": "code",
   "execution_count": null,
   "metadata": {},
   "outputs": [],
   "source": [
    "import numpy as np\n",
    "import matplotlib.pyplot as plt"
   ]
  },
  {
   "cell_type": "code",
   "execution_count": null,
   "metadata": {},
   "outputs": [],
   "source": [
    "data = np.loadtxt('../data/inflammation-01.csv', delimiter=',')"
   ]
  },
  {
   "cell_type": "markdown",
   "metadata": {},
   "source": [
    "To select first two columns from the first row, you can use:"
   ]
  },
  {
   "cell_type": "code",
   "execution_count": null,
   "metadata": {},
   "outputs": [],
   "source": [
    "data[0, 0:2]"
   ]
  },
  {
   "cell_type": "markdown",
   "metadata": {},
   "source": [
    "Note that the returned array does not include third column (with index 2). The slice 0:2 means, “Start at index 0 and go up to, but not including, index 2.”"
   ]
  },
  {
   "cell_type": "markdown",
   "metadata": {},
   "source": [
    "You can skip the first or last index (which means, take the values from the beginning or to the end):"
   ]
  },
  {
   "cell_type": "code",
   "execution_count": null,
   "metadata": {},
   "outputs": [],
   "source": [
    "data[0, :2]"
   ]
  },
  {
   "cell_type": "markdown",
   "metadata": {},
   "source": [
    "If you omit both indices in the slice leaving out only the colon (:), you will get all columns of this row:"
   ]
  },
  {
   "cell_type": "code",
   "execution_count": null,
   "metadata": {},
   "outputs": [],
   "source": [
    "data[0, :]"
   ]
  },
  {
   "cell_type": "markdown",
   "metadata": {},
   "source": [
    "You can also slice at both dimensions"
   ]
  },
  {
   "cell_type": "code",
   "execution_count": null,
   "metadata": {},
   "outputs": [],
   "source": [
    "print(data[5:10, 0:10])"
   ]
  },
  {
   "cell_type": "markdown",
   "metadata": {},
   "source": [
    "<div class=\"alert alert-success\">\n",
    "    \n",
    "**EXERCISE:**\n",
    "\n",
    "- Select rows from the beginning to 2 and columns from 36 to the end of the array."
   ]
  },
  {
   "cell_type": "code",
   "execution_count": null,
   "metadata": {},
   "outputs": [],
   "source": [
    "# %load _solutions/04_slices_1.py"
   ]
  },
  {
   "cell_type": "markdown",
   "metadata": {},
   "source": [
    "<div class=\"alert alert-success\">\n",
    "    \n",
    "**QUIZ:**\n",
    "\n",
    "- Imagine the following array a:\n",
    "    \n",
    "  ```ipython\n",
    "  >>> print(a)\n",
    "  [0, 5, 8, 10]\n",
    "  ```\n",
    "\n",
    "  Which of the following commands will give this output:\n",
    "  ```ipython\n",
    "  [5, 8]\n",
    "  ```  \n",
    "\n",
    "  - a) `print(a[1, 2])`\n",
    "\n",
    "  - b) `print(a[2:3])`\n",
    "\n",
    "  - c) `print(a[1:2])`\n",
    "\n",
    "  - d) `print(a[[1, 2]])`\n",
    "\n",
    "  - e) `print(a[a < 10])`\n",
    "\n",
    "  You can test your guess by creating the `a` array:\n",
    "  ```ipython\n",
    "  a = np.array([0, 5, 8, 10])\n",
    "  ```                    "
   ]
  },
  {
   "cell_type": "code",
   "execution_count": null,
   "metadata": {},
   "outputs": [],
   "source": [
    "# %load _solutions/04_slices_2.py"
   ]
  },
  {
   "cell_type": "markdown",
   "metadata": {},
   "source": [
    "You can assign elements with slices and indexes:"
   ]
  },
  {
   "cell_type": "code",
   "execution_count": null,
   "metadata": {},
   "outputs": [],
   "source": [
    "a = np.arange(9)\n",
    "print(a)"
   ]
  },
  {
   "cell_type": "code",
   "execution_count": null,
   "metadata": {},
   "outputs": [],
   "source": [
    "a[1:8:2] = 1000\n",
    "print(a)"
   ]
  },
  {
   "cell_type": "markdown",
   "metadata": {},
   "source": [
    "## View and Copy\n",
    "\n",
    "When the contents are physically stored in another location, it is called __Copy__. If on the other hand, a different view of the same memory content is provided, we call it as __View__.\n",
    "\n",
    "- __View__ : it is another way of viewing the data of the array\n",
    "- __Copy__ : it does not share allocated memory with the original array"
   ]
  },
  {
   "cell_type": "markdown",
   "metadata": {},
   "source": [
    "__Slicing__ an array will result in a __view__:"
   ]
  },
  {
   "cell_type": "code",
   "execution_count": null,
   "metadata": {},
   "outputs": [],
   "source": [
    "a = np.arange(9)\n",
    "b = a[6:9]\n",
    "print(f'a old: {a}')\n",
    "print(f'b old: {b}')\n",
    "\n",
    "b[0] = 2\n",
    "print(f'a: {a}')\n",
    "print(f'b: {b}')"
   ]
  },
  {
   "cell_type": "markdown",
   "metadata": {},
   "source": [
    "Whereas __masking__ an array will result in a __copy__:"
   ]
  },
  {
   "cell_type": "code",
   "execution_count": null,
   "metadata": {},
   "outputs": [],
   "source": [
    "a = np.arange(9)\n",
    "b = a[a > 5]\n",
    "print(f'a old: {a}')\n",
    "print(f'b old: {b}')\n",
    "\n",
    "b[0] = 2\n",
    "print(f'a: {a}')\n",
    "print(f'b: {b}')"
   ]
  },
  {
   "cell_type": "markdown",
   "metadata": {},
   "source": [
    "<div class=\"alert alert-success\">\n",
    "    \n",
    "**QUIZ:** View or copy\n",
    "    \n",
    "- What are the final values of `a` and `b` at the end of the following program? Explain why.\n",
    "\n",
    "  ```python\n",
    "  a = np.arange(5)\n",
    "  b = a[a < 3]\n",
    "  b[::2] = 0\n",
    "  ```\n",
    "\n",
    "\n",
    "  - a) `a = [0, 1, 2, 3, 4]`, `b = [0, 1, 2]`\n",
    "  - b) `a = [0, 1, 0, 3, 4]`, `b = [0, 1, 0]`\n",
    "  - c) `a = [0, 0, 2, 3, 4]`, `b = [0, 0, 2]`\n",
    "  - d) `a = [0, 1, 2, 3, 4]`, `b = [0, 1, 0]`\n",
    "  - e) `a = [0, 1, 2, 3, 4]`, `b = [0, 1, 0, 3, 0]`"
   ]
  },
  {
   "cell_type": "code",
   "execution_count": null,
   "metadata": {},
   "outputs": [],
   "source": []
  },
  {
   "cell_type": "markdown",
   "metadata": {},
   "source": [
    "<div class=\"alert alert-success\">\n",
    "    \n",
    "**EXERCISE**: View or copy\n",
    "\n",
    "- Create an array of values from 0 to 11. Create another array as follows: `y = x[2]`. What happens when you modify y — does x also change?\n",
    "- Now try `y = x[:2]` and modify its first element. What happens now?"
   ]
  },
  {
   "cell_type": "code",
   "execution_count": null,
   "metadata": {},
   "outputs": [],
   "source": [
    "# %load _solutions/04_slices_3.py"
   ]
  },
  {
   "cell_type": "code",
   "execution_count": null,
   "metadata": {},
   "outputs": [],
   "source": [
    "# %load _solutions/04_slices_4.py"
   ]
  },
  {
   "cell_type": "markdown",
   "metadata": {},
   "source": [
    "<div class=\"alert alert-success\">\n",
    "    \n",
    "**EXERCISE**: Checkerboard\n",
    "    \n",
    "- Create an 8x8 array of zeros and fill it with a checkerboard pattern. \n",
    "\n",
    "  You can use [`plt.imshow()`](https://matplotlib.org/stable/api/_as_gen/matplotlib.pyplot.imshow.html) to visualize your array.\n",
    "\n",
    "\n",
    "<img src=\"../images/checkerboard.svg\"  width=400 height=400>"
   ]
  },
  {
   "cell_type": "code",
   "execution_count": null,
   "metadata": {},
   "outputs": [],
   "source": [
    "# %load _solutions/04_slices_5.py"
   ]
  },
  {
   "cell_type": "markdown",
   "metadata": {},
   "source": [
    "Previous: [03 - Filtering data](filtering_data.ipynb)<span style=\"float:right;\">Next: [05 - Operations](operations.ipynb)</span>"
   ]
  }
 ],
 "metadata": {
  "kernelspec": {
   "display_name": "Python 3",
   "language": "python",
   "name": "python3"
  },
  "language_info": {
   "codemirror_mode": {
    "name": "ipython",
    "version": 3
   },
   "file_extension": ".py",
   "mimetype": "text/x-python",
   "name": "python",
   "nbconvert_exporter": "python",
   "pygments_lexer": "ipython3",
   "version": "3.7.10"
  }
 },
 "nbformat": 4,
 "nbformat_minor": 2
}
