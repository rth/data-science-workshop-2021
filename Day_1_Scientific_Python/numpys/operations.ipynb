{
 "cells": [
  {
   "cell_type": "markdown",
   "metadata": {},
   "source": [
    "# 05 - Operations\n",
    "\n",
    "Arrays also know how to perform common mathematical operations on their values. The simplest operations with data are arithmetic: addition, subtraction, multiplication, and division. When you do such operations on arrays, the operation is done element-by-element. <br>"
   ]
  },
  {
   "cell_type": "code",
   "execution_count": null,
   "metadata": {},
   "outputs": [],
   "source": [
    "import numpy as np"
   ]
  },
  {
   "cell_type": "code",
   "execution_count": null,
   "metadata": {},
   "outputs": [],
   "source": [
    "data = np.loadtxt('../data/inflammation-01.csv', delimiter=',')"
   ]
  },
  {
   "cell_type": "code",
   "execution_count": null,
   "metadata": {},
   "outputs": [],
   "source": [
    "double_data = data + data\n",
    "print(double_data)"
   ]
  },
  {
   "cell_type": "markdown",
   "metadata": {},
   "source": [
    "Operations by scalar:"
   ]
  },
  {
   "cell_type": "code",
   "execution_count": null,
   "metadata": {},
   "outputs": [],
   "source": [
    "triple_data = data * 3\n",
    "print(triple_data)"
   ]
  },
  {
   "cell_type": "markdown",
   "metadata": {},
   "source": [
    "One of the advantages of NumPy is that it allows to apply a universal function (called [`ufunc`](https://numpy.org/doc/stable/reference/generated/numpy.ufunc.html)) element-wise (to all elements of an array) without the need of Python [`for`](https://docs.python.org/3/tutorial/controlflow.html#for-statements) loops:\n",
    "\n",
    "That is the case for functions like: [**np.sin**](https://numpy.org/doc/stable/reference/generated/numpy.sin.html), [**np.sqrt**](https://numpy.org/doc/stable/reference/generated/numpy.sqrt.html), [**np.exp**](https://numpy.org/doc/stable/reference/generated/numpy.exp.html), etc."
   ]
  },
  {
   "cell_type": "code",
   "execution_count": null,
   "metadata": {},
   "outputs": [],
   "source": [
    "np.sin(data[0,:])"
   ]
  },
  {
   "cell_type": "markdown",
   "metadata": {},
   "source": [
    "This is not only convenient but also **more efficient** than iterating through the elements using for loops."
   ]
  },
  {
   "cell_type": "code",
   "execution_count": null,
   "metadata": {},
   "outputs": [],
   "source": [
    "exp_data = np.exp(data)\n",
    "print(exp_data)"
   ]
  },
  {
   "cell_type": "markdown",
   "metadata": {},
   "source": [
    "Here you can find a list of the [mathematical functions](https://numpy.org/doc/stable/reference/routines.math.html).\n",
    "\n",
    "**Warning** The Python Standard Library also includes the [`math`](https://docs.python.org/3/library/math.html) library, but it does not play nicely with NumPy array and it may give different results than numpy function, so avoid using it with NumPy arrays.\n",
    "\n",
    "Some functions (such as [**np.sum**](https://numpy.org/doc/stable/reference/generated/numpy.sum.html), [**np.mean**](https://numpy.org/doc/stable/reference/generated/numpy.mean.html), [**np.amax**](https://numpy.org/doc/stable/reference/generated/numpy.amax.html), etc.) aggregate the data, returning arrays of less dimensions or scalars:"
   ]
  },
  {
   "cell_type": "code",
   "execution_count": null,
   "metadata": {},
   "outputs": [],
   "source": [
    "sum_data = np.sum(data)\n",
    "print('sum data: {}'.format(sum_data))"
   ]
  },
  {
   "cell_type": "code",
   "execution_count": null,
   "metadata": {},
   "outputs": [],
   "source": [
    "mean_data = np.mean(data)\n",
    "print(mean_data)"
   ]
  },
  {
   "cell_type": "markdown",
   "metadata": {},
   "source": [
    "It's also possbile to average over a single axis (see section below)."
   ]
  },
  {
   "cell_type": "markdown",
   "metadata": {},
   "source": [
    "## Axis\n",
    "\n",
    "By specifying the `axis` parameter, you can apply an operation along the specified axis of an array.\n",
    "\n",
    "<img src=\"../images/axis.png\" alt=\"drawing\" width=200 >"
   ]
  },
  {
   "cell_type": "code",
   "execution_count": null,
   "metadata": {},
   "outputs": [],
   "source": [
    "np.mean(data, axis=0)"
   ]
  },
  {
   "cell_type": "markdown",
   "metadata": {},
   "source": [
    "## $\\color{green}{\\text{Excercise}}$\n",
    "\n",
    "Create array `a` with random elements of shape 1000 x 3.\n",
    "Select the second and third column (index 1 and 2) and calculate the mean for each of the columns (i.e. your answer should be an array with two elements)"
   ]
  },
  {
   "cell_type": "code",
   "execution_count": null,
   "metadata": {},
   "outputs": [],
   "source": []
  },
  {
   "cell_type": "markdown",
   "metadata": {},
   "source": [
    "## $\\color{green}{\\text{Excercise}}$\n",
    "\n",
    "Generate a 10 x 3 array of random numbers (using np.random.rand). From each row, find the column index of the element closest to 0.75. Make use of np.abs and np.argmin. The result should be a one-dimensional array of integers from 0 to 2."
   ]
  },
  {
   "cell_type": "code",
   "execution_count": null,
   "metadata": {},
   "outputs": [],
   "source": []
  },
  {
   "cell_type": "markdown",
   "metadata": {},
   "source": [
    "## $\\color{green}{\\text{Excercise}}$ operations\n",
    "\n",
    "Average the inflammation data over the first ten patients (rows) and plot them across time (columns). Then repeat it for the next ten patients and so on. Try putting all averages on a single plot"
   ]
  },
  {
   "cell_type": "code",
   "execution_count": null,
   "metadata": {},
   "outputs": [],
   "source": [
    "\n",
    "    "
   ]
  },
  {
   "cell_type": "markdown",
   "metadata": {},
   "source": [
    "Previous: [04 - Slices](slices.ipynb)<span style=\"float:right;\">Next: [06 - Boolean mask](boolean_mask.ipynb)</span>"
   ]
  },
  {
   "cell_type": "code",
   "execution_count": null,
   "metadata": {},
   "outputs": [],
   "source": []
  }
 ],
 "metadata": {
  "kernelspec": {
   "display_name": "Python 3",
   "language": "python",
   "name": "python3"
  },
  "language_info": {
   "codemirror_mode": {
    "name": "ipython",
    "version": 3
   },
   "file_extension": ".py",
   "mimetype": "text/x-python",
   "name": "python",
   "nbconvert_exporter": "python",
   "pygments_lexer": "ipython3",
   "version": "3.7.10"
  }
 },
 "nbformat": 4,
 "nbformat_minor": 2
}
